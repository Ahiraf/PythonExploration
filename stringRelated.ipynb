{
  "nbformat": 4,
  "nbformat_minor": 0,
  "metadata": {
    "colab": {
      "provenance": [],
      "authorship_tag": "ABX9TyP2++mZKz9Sb6vVLx/LEobe",
      "include_colab_link": true
    },
    "kernelspec": {
      "name": "python3",
      "display_name": "Python 3"
    },
    "language_info": {
      "name": "python"
    }
  },
  "cells": [
    {
      "cell_type": "markdown",
      "metadata": {
        "id": "view-in-github",
        "colab_type": "text"
      },
      "source": [
        "<a href=\"https://colab.research.google.com/github/Ahiraf/PythonExploration/blob/main/stringRelated.ipynb\" target=\"_parent\"><img src=\"https://colab.research.google.com/assets/colab-badge.svg\" alt=\"Open In Colab\"/></a>"
      ]
    },
    {
      "cell_type": "markdown",
      "source": [
        "# Strings\n",
        "- **Task 1:** Write a program to check if a string is a palindrome (reads the same backward).\n",
        "\n",
        "  Example Input: \"madam\"\n",
        "\n",
        "  Example Output: True\n",
        "- **Task 2:** Count the number of vowels and consonants in a given string.\n",
        "\n",
        "Example Input: \"hello\"\n",
        "\n",
        "  Example Output: Vowels: 2, Consonants: 3\n",
        "\n",
        "  Hint: Use if-else and a string of vowels (aeiou). Also iterate through each character using *for char in text:*\n"
      ],
      "metadata": {
        "id": "_zhJSsCw-k5o"
      }
    },
    {
      "cell_type": "code",
      "execution_count": null,
      "metadata": {
        "colab": {
          "base_uri": "https://localhost:8080/"
        },
        "id": "-Eh7MvgG0AcH",
        "outputId": "02a85611-9b36-460b-c4e8-8552276845b7"
      },
      "outputs": [
        {
          "output_type": "stream",
          "name": "stdout",
          "text": [
            "Enter a string : Mim\n",
            "Mim\n",
            "False\n"
          ]
        }
      ],
      "source": [
        "str = input(\"Enter a string : \")\n",
        "rev_str = str[::-1]\n",
        "if(str == rev_str):\n",
        "  print(\"True\")\n",
        "else:\n",
        "  print(\"False\")\n",
        "\n",
        "\n",
        "\n"
      ]
    },
    {
      "cell_type": "code",
      "source": [
        "str1 = input(\"Enter a string : \")\n",
        "vowel=[\"a\",\"e\",\"i\",\"o\",\"u\"]\n",
        "count_vowel = 0\n",
        "count_consonant = 0\n",
        "for char in str1 :\n",
        "  if char in vowel : count_vowel += 1\n",
        "  else : count_consonant += 1\n",
        "\n",
        "print(f\"The number of vowels are : {count_vowel}\")\n",
        "print(f\"The number of consonants are : {count_consonant}\")"
      ],
      "metadata": {
        "colab": {
          "base_uri": "https://localhost:8080/"
        },
        "id": "5ar02-iRBnqw",
        "outputId": "575ac6d4-7bce-45f5-9f0b-dcfaeaff4933"
      },
      "execution_count": null,
      "outputs": [
        {
          "output_type": "stream",
          "name": "stdout",
          "text": [
            "Enter a string : hello\n",
            "The number of vowels are : 2\n",
            "The number of consonants are : 3\n"
          ]
        }
      ]
    }
  ]
}