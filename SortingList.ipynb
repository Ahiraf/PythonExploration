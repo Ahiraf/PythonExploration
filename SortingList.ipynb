{
  "nbformat": 4,
  "nbformat_minor": 0,
  "metadata": {
    "colab": {
      "provenance": [],
      "authorship_tag": "ABX9TyNr65FzgMh+Qyti9lpPJNUq",
      "include_colab_link": true
    },
    "kernelspec": {
      "name": "python3",
      "display_name": "Python 3"
    },
    "language_info": {
      "name": "python"
    }
  },
  "cells": [
    {
      "cell_type": "markdown",
      "metadata": {
        "id": "view-in-github",
        "colab_type": "text"
      },
      "source": [
        "<a href=\"https://colab.research.google.com/github/Ahiraf/PythonExploration/blob/main/SortingList.ipynb\" target=\"_parent\"><img src=\"https://colab.research.google.com/assets/colab-badge.svg\" alt=\"Open In Colab\"/></a>"
      ]
    },
    {
      "cell_type": "markdown",
      "source": [
        "# List\n",
        "- **Task 1:** Make a list of numbers and sort it.\n",
        "- **Task 2:** Make a list of numbers and sort it in descending order (matha khataw)\n",
        "\n"
      ],
      "metadata": {
        "id": "_zhJSsCw-k5o"
      }
    },
    {
      "cell_type": "code",
      "execution_count": 8,
      "metadata": {
        "colab": {
          "base_uri": "https://localhost:8080/"
        },
        "id": "-Eh7MvgG0AcH",
        "outputId": "51287211-c097-4a7c-8123-88f951a5e140"
      },
      "outputs": [
        {
          "output_type": "stream",
          "name": "stdout",
          "text": [
            "[0, 1, 1, 1, 2, 2, 3, 4, 6, 25, 32, 52, 56, 98]\n",
            "[98, 6, 2, 56, 1, 0, 25, 52, 32, 1, 4, 3, 2, 1]\n"
          ]
        }
      ],
      "source": [
        "# Sorting in Ascending order\n",
        "\n",
        "\n",
        "\n",
        "number = [1,2,3,4,1,32,52,25,0,1,56,2,6,98]\n",
        "\n",
        "ascending = sorted(number)\n",
        "\n",
        "#or, number.sort();\n",
        "print(f\"{ascending}\")\n",
        "\n",
        "descending = number[::-1]\n",
        "#rev_number = number[::-1]\n",
        "print(f\"{descending}\")\n",
        "\n",
        "#Key Differences:\n",
        "#sorted(number):\n",
        "#Returns a new sorted list without modifying the original list.\n",
        "\n",
        "#number.sort():\n",
        "#Modifies the list in place and returns None.\n"
      ]
    }
  ]
}