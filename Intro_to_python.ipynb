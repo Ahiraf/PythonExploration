{
  "nbformat": 4,
  "nbformat_minor": 0,
  "metadata": {
    "colab": {
      "provenance": [],
      "authorship_tag": "ABX9TyPwI26m6HuHQDt34EXGXxr5",
      "include_colab_link": true
    },
    "kernelspec": {
      "name": "python3",
      "display_name": "Python 3"
    },
    "language_info": {
      "name": "python"
    }
  },
  "cells": [
    {
      "cell_type": "markdown",
      "metadata": {
        "id": "view-in-github",
        "colab_type": "text"
      },
      "source": [
        "<a href=\"https://colab.research.google.com/github/Ahiraf/PythonExploration/blob/main/Intro_to_python.ipynb\" target=\"_parent\"><img src=\"https://colab.research.google.com/assets/colab-badge.svg\" alt=\"Open In Colab\"/></a>"
      ]
    },
    {
      "cell_type": "markdown",
      "source": [
        "#### Intro To Python :- ####\n"
      ],
      "metadata": {
        "id": "9l4mUc6lR_65"
      }
    },
    {
      "cell_type": "code",
      "source": [
        "print(\"Hello World !\")"
      ],
      "metadata": {
        "colab": {
          "base_uri": "https://localhost:8080/"
        },
        "id": "utDtDXfhSxy4",
        "outputId": "1ba7f2cc-d644-4060-daf2-bcaac94dab85"
      },
      "execution_count": null,
      "outputs": [
        {
          "output_type": "stream",
          "name": "stdout",
          "text": [
            "Hello World !\n"
          ]
        }
      ]
    },
    {
      "cell_type": "markdown",
      "source": [
        "## Variables ##\n",
        "\n",
        "* Integer\n",
        "* Floating Point\n",
        "* String\n",
        "* Boolean\n",
        "* List\n",
        "* Dictionary\n",
        "* Set\n"
      ],
      "metadata": {
        "id": "Zp-m-sB6TMgO"
      }
    },
    {
      "cell_type": "code",
      "source": [
        "age = 23 #Integer\n",
        "name = 'Fariha' # String\n",
        "cgpa = 3.5 #Floating Point\n",
        "graduated = False #Boolean\n",
        "print(age)\n",
        "print(name)\n",
        "print(cgpa)\n",
        "print(graduated)"
      ],
      "metadata": {
        "colab": {
          "base_uri": "https://localhost:8080/"
        },
        "id": "of-o94qOTLmb",
        "outputId": "eb8d54c9-252a-420c-85dc-f60dd69da6f1"
      },
      "execution_count": null,
      "outputs": [
        {
          "output_type": "stream",
          "name": "stdout",
          "text": [
            "23\n",
            "Fariha\n",
            "3.5\n",
            "False\n"
          ]
        }
      ]
    },
    {
      "cell_type": "markdown",
      "source": [
        "## Arithmatic\n"
      ],
      "metadata": {
        "id": "-VfIF0jTUhtT"
      }
    },
    {
      "cell_type": "code",
      "source": [
        " a = 10\n",
        " b = 3\n",
        "addition = a + b\n",
        "subtraction = a - b\n",
        "multiplication = a * b\n",
        "division = a / b\n",
        "integer_division = a // b\n",
        "modulus= a % b\n",
        "exponent= a ** b #a^b\n",
        "print(addition)\n",
        "print(subtraction)"
      ],
      "metadata": {
        "colab": {
          "base_uri": "https://localhost:8080/"
        },
        "id": "fzV2Cz_9Ulda",
        "outputId": "0411951d-16c6-49f8-a9c9-0d739eabb38e"
      },
      "execution_count": null,
      "outputs": [
        {
          "output_type": "stream",
          "name": "stdout",
          "text": [
            "13\n",
            "7\n"
          ]
        }
      ]
    },
    {
      "cell_type": "markdown",
      "source": [
        "## String Arithmatic\n"
      ],
      "metadata": {
        "id": "drIOpmztWI93"
      }
    },
    {
      "cell_type": "code",
      "source": [
        "first_name = \"Fariha\"\n",
        "last_name = \"Mim\"\n",
        "full_name = first_name + \" \" + last_name # Concatanation\n",
        "print(full_name)\n",
        "print(first_name * 6) # Without using loop possible in Python"
      ],
      "metadata": {
        "colab": {
          "base_uri": "https://localhost:8080/"
        },
        "id": "_L0cV01iWM0Z",
        "outputId": "d8de6b02-e056-4b29-80b5-5159519cf055"
      },
      "execution_count": null,
      "outputs": [
        {
          "output_type": "stream",
          "name": "stdout",
          "text": [
            "Fariha Mim\n",
            "FarihaFarihaFarihaFarihaFarihaFariha\n"
          ]
        }
      ]
    },
    {
      "cell_type": "markdown",
      "source": [
        "### Output Formatting\n"
      ],
      "metadata": {
        "id": "f6FvaigIW_uV"
      }
    },
    {
      "cell_type": "code",
      "source": [
        "print(f\"My name is {name}. \") # f string\n",
        "print(f\"My cgpa is {cgpa} .\")"
      ],
      "metadata": {
        "id": "-ps-_FDjXDnB",
        "colab": {
          "base_uri": "https://localhost:8080/"
        },
        "outputId": "430da43a-599d-417d-b9a7-b920cfd44786"
      },
      "execution_count": null,
      "outputs": [
        {
          "output_type": "stream",
          "name": "stdout",
          "text": [
            "My name is Fariha. \n",
            "My cgpa is 3.5 .\n"
          ]
        }
      ]
    },
    {
      "cell_type": "markdown",
      "source": [
        "## Functions\n"
      ],
      "metadata": {
        "id": "8nlOLv82IgSC"
      }
    },
    {
      "cell_type": "code",
      "source": [
        "def say_hello():   # indentation should be followed . def= define\n",
        "  print(\"Hello world!\")\n",
        "say_hello()\n",
        "\n",
        "def say_hello(name):\n",
        "  print(f\"Hello, {name}!\")\n",
        "say_hello(\"Fariha\")\n",
        "say_hello(\"MIM\")\n"
      ],
      "metadata": {
        "colab": {
          "base_uri": "https://localhost:8080/"
        },
        "id": "GvM8H9V_Ii1D",
        "outputId": "8c01db87-b2e2-4425-8ae6-8256b03ec4ff"
      },
      "execution_count": null,
      "outputs": [
        {
          "output_type": "stream",
          "name": "stdout",
          "text": [
            "Hello world!\n",
            "Hello, Fariha!\n",
            "Hello, MIM!\n"
          ]
        }
      ]
    }
  ]
}