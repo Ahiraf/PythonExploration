{
  "nbformat": 4,
  "nbformat_minor": 0,
  "metadata": {
    "colab": {
      "provenance": [],
      "authorship_tag": "ABX9TyMKLHDwWgy7CsaxCIlt/0St",
      "include_colab_link": true
    },
    "kernelspec": {
      "name": "python3",
      "display_name": "Python 3"
    },
    "language_info": {
      "name": "python"
    }
  },
  "cells": [
    {
      "cell_type": "markdown",
      "metadata": {
        "id": "view-in-github",
        "colab_type": "text"
      },
      "source": [
        "<a href=\"https://colab.research.google.com/github/Ahiraf/PythonExploration/blob/main/Intro_to_python.ipynb\" target=\"_parent\"><img src=\"https://colab.research.google.com/assets/colab-badge.svg\" alt=\"Open In Colab\"/></a>"
      ]
    },
    {
      "cell_type": "markdown",
      "source": [
        "# Intro To Python :- #\n"
      ],
      "metadata": {
        "id": "9l4mUc6lR_65"
      }
    },
    {
      "cell_type": "code",
      "source": [
        "print(\"Hello World !\")"
      ],
      "metadata": {
        "colab": {
          "base_uri": "https://localhost:8080/"
        },
        "id": "utDtDXfhSxy4",
        "outputId": "c02ac0e9-5f94-4097-bce7-bb6a64087fbf"
      },
      "execution_count": null,
      "outputs": [
        {
          "output_type": "stream",
          "name": "stdout",
          "text": [
            "Hello World !\n"
          ]
        }
      ]
    },
    {
      "cell_type": "markdown",
      "source": [
        "# Variables ##\n",
        "\n",
        "* Integer\n",
        "* Floating Point\n",
        "* String\n",
        "* Boolean\n",
        "* List\n",
        "* Dictionary\n",
        "* Set\n"
      ],
      "metadata": {
        "id": "Zp-m-sB6TMgO"
      }
    },
    {
      "cell_type": "code",
      "source": [
        "age = 23 #Integer\n",
        "name = 'Fariha' # String\n",
        "cgpa = 3.5 #Floating Point\n",
        "graduated = False #Boolean\n",
        "print(age)\n",
        "print(name)\n",
        "print(cgpa)\n",
        "print(graduated)"
      ],
      "metadata": {
        "colab": {
          "base_uri": "https://localhost:8080/"
        },
        "id": "of-o94qOTLmb",
        "outputId": "b29b5951-25d0-48aa-a5d6-2bc7ed339aea"
      },
      "execution_count": null,
      "outputs": [
        {
          "output_type": "stream",
          "name": "stdout",
          "text": [
            "23\n",
            "Fariha\n",
            "3.5\n",
            "False\n"
          ]
        }
      ]
    },
    {
      "cell_type": "markdown",
      "source": [
        "# Arithmatic\n"
      ],
      "metadata": {
        "id": "-VfIF0jTUhtT"
      }
    },
    {
      "cell_type": "code",
      "source": [
        " a = 10\n",
        " b = 3\n",
        "addition = a + b\n",
        "subtraction = a - b\n",
        "multiplication = a * b\n",
        "division = a / b\n",
        "integer_division = a // b\n",
        "modulus= a % b\n",
        "exponent= a ** b #a^b\n",
        "print(addition)\n",
        "print(subtraction)"
      ],
      "metadata": {
        "colab": {
          "base_uri": "https://localhost:8080/"
        },
        "id": "fzV2Cz_9Ulda",
        "outputId": "b579612e-b26c-436c-82d2-d5e09c27a9b3"
      },
      "execution_count": null,
      "outputs": [
        {
          "output_type": "stream",
          "name": "stdout",
          "text": [
            "13\n",
            "7\n"
          ]
        }
      ]
    },
    {
      "cell_type": "markdown",
      "source": [
        "# String Arithmatic\n"
      ],
      "metadata": {
        "id": "drIOpmztWI93"
      }
    },
    {
      "cell_type": "code",
      "source": [
        "first_name = \"Fariha\"\n",
        "last_name = \"Mim\"\n",
        "full_name = first_name + \" \" + last_name # Concatanation\n",
        "print(full_name)\n",
        "print(first_name * 6) # Without using loop possible in Python"
      ],
      "metadata": {
        "colab": {
          "base_uri": "https://localhost:8080/"
        },
        "id": "_L0cV01iWM0Z",
        "outputId": "eac77149-bbd6-430e-90cf-1dfd6377d175"
      },
      "execution_count": null,
      "outputs": [
        {
          "output_type": "stream",
          "name": "stdout",
          "text": [
            "Fariha Mim\n",
            "FarihaFarihaFarihaFarihaFarihaFariha\n"
          ]
        }
      ]
    },
    {
      "cell_type": "markdown",
      "source": [
        "### Output Formatting\n"
      ],
      "metadata": {
        "id": "f6FvaigIW_uV"
      }
    },
    {
      "cell_type": "code",
      "source": [
        "print(f\"My name is {name}. \") # f string\n",
        "print(f\"My cgpa is {cgpa} .\")"
      ],
      "metadata": {
        "id": "-ps-_FDjXDnB",
        "colab": {
          "base_uri": "https://localhost:8080/"
        },
        "outputId": "a5064dd5-2c91-4697-8d9e-ef9c5b5b0664"
      },
      "execution_count": null,
      "outputs": [
        {
          "output_type": "stream",
          "name": "stdout",
          "text": [
            "My name is Fariha. \n",
            "My cgpa is 3.5 .\n"
          ]
        }
      ]
    },
    {
      "cell_type": "markdown",
      "source": [
        "# Functions\n"
      ],
      "metadata": {
        "id": "8nlOLv82IgSC"
      }
    },
    {
      "cell_type": "code",
      "source": [
        "def say_hello():   # indentation should be followed . def= define\n",
        "  print(\"Hello world!\")\n",
        "say_hello()\n",
        "\n",
        "def say_hello(name):\n",
        "  print(f\"Hello, {name}!\")\n",
        "say_hello(\"Fariha\")\n",
        "say_hello(\"MIM\")\n"
      ],
      "metadata": {
        "colab": {
          "base_uri": "https://localhost:8080/"
        },
        "id": "GvM8H9V_Ii1D",
        "outputId": "871feed1-7fa5-4751-89e5-5be05ccae94a"
      },
      "execution_count": null,
      "outputs": [
        {
          "output_type": "stream",
          "name": "stdout",
          "text": [
            "Hello world!\n",
            "Hello, Fariha!\n",
            "Hello, MIM!\n"
          ]
        }
      ]
    },
    {
      "cell_type": "markdown",
      "source": [],
      "metadata": {
        "id": "8A1vgEjlyoJ7"
      }
    },
    {
      "cell_type": "markdown",
      "source": [
        "# String"
      ],
      "metadata": {
        "id": "lBIRwnw4yeVy"
      }
    },
    {
      "cell_type": "code",
      "source": [
        "str1 = \"Ajke\"\n",
        "str2 = \"Ct\"\n",
        "str3 = \"chilo\"\n",
        "str = str1 + \" \" + str2 + \" \" + str3\n",
        "print(str)\n",
        "\n",
        "Hashi = \"hi\"\n",
        "print(Hashi * 3)\n",
        "\n",
        "\n"
      ],
      "metadata": {
        "colab": {
          "base_uri": "https://localhost:8080/"
        },
        "id": "jaxdxCPZyiNd",
        "outputId": "898030b2-356e-4b92-9566-f78d89f0b9f5"
      },
      "execution_count": null,
      "outputs": [
        {
          "output_type": "stream",
          "name": "stdout",
          "text": [
            "Ajke Ct chilo\n",
            "hihihi\n"
          ]
        }
      ]
    },
    {
      "cell_type": "markdown",
      "source": [
        "#Indexing and Accessing\n"
      ],
      "metadata": {
        "id": "A-e-hpBhiLHw"
      }
    },
    {
      "cell_type": "code",
      "source": [
        "str4 = \"school\"\n",
        "print(str4[0])\n",
        "print(str4[5])\n",
        "\n",
        "print(str4[-1])\n",
        "print(str4[-2])\n",
        "print(str4[-6])"
      ],
      "metadata": {
        "colab": {
          "base_uri": "https://localhost:8080/"
        },
        "id": "F7bxn-d5iJpv",
        "outputId": "4f3cc73f-a3c3-49c3-f0e1-a443d5336b97"
      },
      "execution_count": null,
      "outputs": [
        {
          "output_type": "stream",
          "name": "stdout",
          "text": [
            "s\n",
            "l\n",
            "l\n",
            "o\n",
            "s\n"
          ]
        }
      ]
    },
    {
      "cell_type": "code",
      "source": [
        "dept = 'Computer Science and Engineering'\n",
        "dept[0:8]\n",
        "size = len(dept)\n",
        "\n",
        "dept[9:]\n",
        "dept[21:]\n"
      ],
      "metadata": {
        "colab": {
          "base_uri": "https://localhost:8080/",
          "height": 35
        },
        "id": "w-PgtdB2fFEg",
        "outputId": "15bff4d1-21bb-4826-fd1f-5af8e97f42f3"
      },
      "execution_count": null,
      "outputs": [
        {
          "output_type": "execute_result",
          "data": {
            "text/plain": [
              "'Engineering'"
            ],
            "application/vnd.google.colaboratory.intrinsic+json": {
              "type": "string"
            }
          },
          "metadata": {},
          "execution_count": 25
        }
      ]
    },
    {
      "cell_type": "code",
      "source": [
        "dept1 = 'Computer'\n",
        "print(dept1[::2])\n",
        "\n",
        "# dept1[::2] means slicing the string starting from the first character ('C')\n",
        "# and going to the end. The step size is 2, so it skips every alternate character.\n",
        "# For example, 'C' is included, 'o' is skipped, then 'm' is included, and so on.\n",
        "\n",
        "print(dept1[1::2])\n",
        "print(dept1[1:4:2]) # Here start index is 1 and the end is 4 .\n"
      ],
      "metadata": {
        "colab": {
          "base_uri": "https://localhost:8080/"
        },
        "id": "yddrFnKMghj7",
        "outputId": "11d312f5-f720-4eb4-8cb9-5c4d365f4d21"
      },
      "execution_count": null,
      "outputs": [
        {
          "output_type": "stream",
          "name": "stdout",
          "text": [
            "Cmue\n",
            "optr\n",
            "op\n"
          ]
        }
      ]
    },
    {
      "cell_type": "markdown",
      "source": [
        "#Convertion\n"
      ],
      "metadata": {
        "id": "29Z85eV3lOuH"
      }
    },
    {
      "cell_type": "code",
      "source": [
        "str1 = 'hello world'\n",
        "str2 = 'HELLO WORLD'\n",
        "print(str1.upper())\n",
        "print(str2.lower())\n"
      ],
      "metadata": {
        "id": "SviWXAKUlThY",
        "colab": {
          "base_uri": "https://localhost:8080/"
        },
        "outputId": "da1c15ec-ecd1-4e79-f78f-d81a80d92858"
      },
      "execution_count": null,
      "outputs": [
        {
          "output_type": "stream",
          "name": "stdout",
          "text": [
            "HELLO WORLD\n",
            "hello world\n"
          ]
        }
      ]
    },
    {
      "cell_type": "markdown",
      "source": [
        "# Replacing"
      ],
      "metadata": {
        "id": "TZLM1weOmCGG"
      }
    },
    {
      "cell_type": "code",
      "source": [
        "str2 = 'My CGPA is 4.00'\n",
        "print(str2.replace('4.00','3.00')) # If I want to save this change I have to use another string variable and keep the change there"
      ],
      "metadata": {
        "colab": {
          "base_uri": "https://localhost:8080/"
        },
        "id": "5f0HYpQIlV8D",
        "outputId": "b69e2530-7da2-4456-97b0-4a7a132073cb"
      },
      "execution_count": null,
      "outputs": [
        {
          "output_type": "stream",
          "name": "stdout",
          "text": [
            "My CGPA is 3.00\n"
          ]
        }
      ]
    },
    {
      "cell_type": "markdown",
      "source": [
        "# Character counting"
      ],
      "metadata": {
        "id": "jZoG3NzxmxLm"
      }
    },
    {
      "cell_type": "code",
      "source": [
        "Mydept = 'Computer Science and engineering'\n",
        "char = 'e' # I want to see the frequency of 'e' in Mydept\n",
        "frequency = Mydept.count(char)\n",
        "print(f\" '{char}' appears '{frequency}' times in Mydept \")"
      ],
      "metadata": {
        "colab": {
          "base_uri": "https://localhost:8080/"
        },
        "id": "PRh-YEKxmzy0",
        "outputId": "63cf44fd-91ca-452c-9a8c-b690760ed07a"
      },
      "execution_count": null,
      "outputs": [
        {
          "output_type": "stream",
          "name": "stdout",
          "text": [
            " 'e' appears '6' times in Mydept \n"
          ]
        }
      ]
    },
    {
      "cell_type": "markdown",
      "source": [
        "# List\n",
        "It is a collection of data (data types)\n",
        "\n",
        "* ordered\n",
        "* Mutable(I can change the elements)\n",
        "* Indexing"
      ],
      "metadata": {
        "id": "7REzkEakophF"
      }
    },
    {
      "cell_type": "code",
      "source": [
        "fruits = ['Apple','banana','Mango']\n",
        "fruits[0] = 'Orange'\n",
        "print(fruits)"
      ],
      "metadata": {
        "colab": {
          "base_uri": "https://localhost:8080/"
        },
        "id": "ESy3zeA7o3h9",
        "outputId": "effe9386-f3a8-45b4-a3f2-bfd6aa38e63a"
      },
      "execution_count": null,
      "outputs": [
        {
          "output_type": "stream",
          "name": "stdout",
          "text": [
            "['Orange', 'banana', 'Mango']\n"
          ]
        }
      ]
    },
    {
      "cell_type": "code",
      "source": [
        "number = [1,2,3,4,5]\n",
        "number.append(6)  # Number will be added at the last of the list\n",
        "number\n",
        "number.remove(3) # 3 will be removed\n",
        "number  # print always shows the last operations"
      ],
      "metadata": {
        "colab": {
          "base_uri": "https://localhost:8080/"
        },
        "id": "KmIdUVbopZMn",
        "outputId": "cf31af15-9304-4e25-ffa1-b07fa4a8cabe"
      },
      "execution_count": null,
      "outputs": [
        {
          "output_type": "execute_result",
          "data": {
            "text/plain": [
              "[1, 2, 4, 5, 6]"
            ]
          },
          "metadata": {},
          "execution_count": 1
        }
      ]
    },
    {
      "cell_type": "markdown",
      "source": [
        "# Slicing of List"
      ],
      "metadata": {
        "id": "WjU1Ueau7UGM"
      }
    },
    {
      "cell_type": "code",
      "source": [
        "number1 = [1,2,3,4,5,6,7,8,9,10]\n",
        "number1[0:5]"
      ],
      "metadata": {
        "colab": {
          "base_uri": "https://localhost:8080/"
        },
        "id": "0zirHLmC7Wns",
        "outputId": "0456cfbe-b848-4629-d437-e5952521e227"
      },
      "execution_count": null,
      "outputs": [
        {
          "output_type": "execute_result",
          "data": {
            "text/plain": [
              "[1, 2, 3, 4, 5]"
            ]
          },
          "metadata": {},
          "execution_count": 2
        }
      ]
    },
    {
      "cell_type": "code",
      "source": [
        "number1[3:8]"
      ],
      "metadata": {
        "colab": {
          "base_uri": "https://localhost:8080/"
        },
        "id": "5ZwIMdo98Pt2",
        "outputId": "c60009ec-b63c-487b-a67a-61c6f3241886"
      },
      "execution_count": null,
      "outputs": [
        {
          "output_type": "execute_result",
          "data": {
            "text/plain": [
              "[4, 5, 6, 7, 8]"
            ]
          },
          "metadata": {},
          "execution_count": 4
        }
      ]
    },
    {
      "cell_type": "markdown",
      "source": [
        "#List Reverse"
      ],
      "metadata": {
        "id": "JZPSODSb8WYo"
      }
    },
    {
      "cell_type": "code",
      "source": [
        "number2=[2,4,6,8]\n",
        "# Normal indexing : 0 1 2 3\n",
        "# Reverse Indexing : -1 -2 -3 -4\n",
        "rev_list = number2[::-1]\n",
        "rev_list\n",
        "print(max(number2))\n",
        "print(min(number2))"
      ],
      "metadata": {
        "colab": {
          "base_uri": "https://localhost:8080/"
        },
        "id": "Kybh0pce8YN2",
        "outputId": "855f21aa-96ec-4225-fc16-2f747d7f9d98"
      },
      "execution_count": null,
      "outputs": [
        {
          "output_type": "stream",
          "name": "stdout",
          "text": [
            "8\n",
            "2\n"
          ]
        }
      ]
    },
    {
      "cell_type": "markdown",
      "source": [
        "# Dictionary\n",
        "* Ordered/unordered\n",
        "* Values are mutable\n",
        "* Keys are immutable\n"
      ],
      "metadata": {
        "id": "KGeUhVee97xG"
      }
    },
    {
      "cell_type": "code",
      "source": [
        "student = {\"name\":\"Fariha\",\"age\":20,\"cgpa\":4}\n",
        "print(student[\"name\"])"
      ],
      "metadata": {
        "id": "QU3JdsrL9-qB",
        "colab": {
          "base_uri": "https://localhost:8080/"
        },
        "outputId": "41480874-49b2-4880-df89-f1380fadcb7d"
      },
      "execution_count": null,
      "outputs": [
        {
          "output_type": "stream",
          "name": "stdout",
          "text": [
            "Fariha\n"
          ]
        }
      ]
    },
    {
      "cell_type": "code",
      "source": [
        "student[\"address\"] = \"Anderkillah\"\n",
        "print(student)"
      ],
      "metadata": {
        "id": "G4RWZenxVo1b"
      },
      "execution_count": null,
      "outputs": []
    },
    {
      "cell_type": "code",
      "source": [
        "student[\"age\"]=21\n",
        "print(student)"
      ],
      "metadata": {
        "colab": {
          "base_uri": "https://localhost:8080/"
        },
        "id": "3TDYhrJPVymb",
        "outputId": "b705c13f-d9db-4118-de00-63383eb37c08"
      },
      "execution_count": null,
      "outputs": [
        {
          "output_type": "stream",
          "name": "stdout",
          "text": [
            "{'name': 'Fariha', 'age': 21, 'cgpa': 4}\n"
          ]
        }
      ]
    },
    {
      "cell_type": "code",
      "source": [
        "student.pop(\"cgpa\")\n",
        "print(student)"
      ],
      "metadata": {
        "colab": {
          "base_uri": "https://localhost:8080/"
        },
        "id": "j6HaLIwrV3Qk",
        "outputId": "034788d4-0fb7-4a14-cfbf-55bd3cd40d22"
      },
      "execution_count": null,
      "outputs": [
        {
          "output_type": "stream",
          "name": "stdout",
          "text": [
            "{'name': 'Fariha', 'age': 21}\n"
          ]
        }
      ]
    },
    {
      "cell_type": "markdown",
      "source": [
        "# Merge Dictionary"
      ],
      "metadata": {
        "id": "CWf1E53pWLR8"
      }
    },
    {
      "cell_type": "code",
      "source": [
        "dict1 = {\"name\" : 'Fariha' , \"age\" :16}\n",
        "dict2 = {\"Address\" : \"Chattogram\"}\n",
        "\n",
        "dict3 = {**dict1 , **dict2} #merging\n",
        "print(dict3)"
      ],
      "metadata": {
        "id": "V91_JVwGWNwa",
        "colab": {
          "base_uri": "https://localhost:8080/"
        },
        "outputId": "cbb547bf-ddfe-40c3-b6c0-75e409e4cb6f"
      },
      "execution_count": null,
      "outputs": [
        {
          "output_type": "stream",
          "name": "stdout",
          "text": [
            "{'name': 'Fariha', 'age': 16, 'Address': 'Chattogram'}\n"
          ]
        }
      ]
    },
    {
      "cell_type": "markdown",
      "source": [
        "# Conditional"
      ],
      "metadata": {
        "id": "vtmD8pUzQswZ"
      }
    },
    {
      "cell_type": "code",
      "source": [
        "num = 10\n",
        "if num > 5:\n",
        "  print(\"Num is greater than 5\")\n",
        ""
      ],
      "metadata": {
        "id": "rAI_3qgOQzxq",
        "colab": {
          "base_uri": "https://localhost:8080/"
        },
        "outputId": "a0a5cb9a-1b18-46f1-b0a4-eafd41abf0c4"
      },
      "execution_count": 3,
      "outputs": [
        {
          "output_type": "stream",
          "name": "stdout",
          "text": [
            "Num is greater than 5\n"
          ]
        }
      ]
    }
  ]
}